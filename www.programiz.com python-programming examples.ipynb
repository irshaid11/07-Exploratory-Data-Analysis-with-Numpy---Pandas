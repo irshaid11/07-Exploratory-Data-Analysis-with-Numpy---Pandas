{
 "cells": [
  {
   "cell_type": "code",
   "execution_count": 4,
   "metadata": {},
   "outputs": [
    {
     "name": "stdout",
     "output_type": "stream",
     "text": [
      "Enter the number: 10169875544\n",
      "Multiplication Table of 10169875544\n",
      "10169875544 X 1 = 10169875544\n",
      "10169875544 X 2 = 20339751088\n",
      "10169875544 X 3 = 30509626632\n",
      "10169875544 X 4 = 40679502176\n",
      "10169875544 X 5 = 50849377720\n",
      "10169875544 X 6 = 61019253264\n",
      "10169875544 X 7 = 71189128808\n",
      "10169875544 X 8 = 81359004352\n",
      "10169875544 X 9 = 91528879896\n",
      "10169875544 X 10 = 101698755440\n"
     ]
    }
   ],
   "source": [
    "# Program do the multiplication table for any entered number\n",
    "num = int(input(\"Enter the number: \"))\n",
    "\n",
    "print(\"Multiplication Table of\", num)\n",
    "for i in range(1, 11):\n",
    "   print(num,\"X\",i,\"=\",num * i)"
   ]
  },
  {
   "cell_type": "code",
   "execution_count": 5,
   "metadata": {},
   "outputs": [
    {
     "name": "stdout",
     "output_type": "stream",
     "text": [
      "Enter a string: Samir\n",
      "{'a': 1, 'e': 0, 'i': 1, 'o': 0, 'u': 0}\n"
     ]
    }
   ],
   "source": [
    "# Program to count the number of each vowel in a string\n",
    " \n",
    "vowels = 'aeiou'\n",
    " \n",
    "ip_str = input(\"Enter a string: \")\n",
    "ip_str = ip_str.casefold()\n",
    " \n",
    "count = {}.fromkeys(vowels,0)\n",
    " \n",
    "\n",
    "for char in ip_str:\n",
    "   if char in count:\n",
    "       count[char] += 1\n",
    " \n",
    "print(count)"
   ]
  },
  {
   "cell_type": "code",
   "execution_count": 10,
   "metadata": {},
   "outputs": [
    {
     "name": "stdout",
     "output_type": "stream",
     "text": [
      "Enter lower range: 2\n",
      "Enter upper range: 2365\n",
      "153\n",
      "370\n",
      "371\n",
      "407\n"
     ]
    }
   ],
   "source": [
    "# Program to ask the user for a range and display all Armstrong numbers in that interval\n",
    " \n",
    "\n",
    "lower = int(input(\"Enter lower range: \"))\n",
    "upper = int(input(\"Enter upper range: \"))\n",
    " \n",
    "for num in range(lower,upper + 1):\n",
    "   \n",
    "   sum = 0\n",
    " \n",
    "  \n",
    "   temp = num\n",
    "   while temp > 0:\n",
    "       digit = temp % 10\n",
    "       sum += digit ** 3\n",
    "       temp //= 10\n",
    " \n",
    "   if num == sum:\n",
    "       print(num)"
   ]
  },
  {
   "cell_type": "code",
   "execution_count": 12,
   "metadata": {},
   "outputs": [
    {
     "name": "stdout",
     "output_type": "stream",
     "text": [
      "How many kilometers?: 30\n",
      "30.000 kilometers is equal to 18.641 miles\n"
     ]
    }
   ],
   "source": [
    "# Python Program to Convert Kilometers to Miles\n",
    "kilometers = float(input('How many kilometers?: '))   \n",
    "conv_fac = 0.621371  \n",
    " \n",
    "miles = kilometers * conv_fac  \n",
    "print('%0.3f kilometers is equal to %0.3f miles' %(kilometers,miles))  "
   ]
  },
  {
   "cell_type": "code",
   "execution_count": 13,
   "metadata": {},
   "outputs": [
    {
     "name": "stdout",
     "output_type": "stream",
     "text": [
      "Enter a string: dfree\n",
      "dfree\n"
     ]
    }
   ],
   "source": [
    "#Python Program to Sort Words in Alphabetic Order\n",
    "my_str = input(\"Enter a string: \")   \n",
    "words = my_str.split()  \n",
    "words.sort()  \n",
    "for word in words:  \n",
    "   print(word)  "
   ]
  }
 ],
 "metadata": {
  "kernelspec": {
   "display_name": "Python 3",
   "language": "python",
   "name": "python3"
  },
  "language_info": {
   "codemirror_mode": {
    "name": "ipython",
    "version": 3
   },
   "file_extension": ".py",
   "mimetype": "text/x-python",
   "name": "python",
   "nbconvert_exporter": "python",
   "pygments_lexer": "ipython3",
   "version": "3.7.6"
  }
 },
 "nbformat": 4,
 "nbformat_minor": 4
}
